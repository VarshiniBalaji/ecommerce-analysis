{
 "cells": [
  {
   "cell_type": "code",
   "execution_count": 29,
   "metadata": {},
   "outputs": [],
   "source": [
    "import pandas as pd\n",
    "from sklearn.model_selection import train_test_split\n",
    "from sklearn.ensemble import RandomForestClassifier\n",
    "from sklearn.metrics import accuracy_score\n",
    "from sklearn.ensemble import GradientBoostingClassifier\n",
    "from sklearn.linear_model import LogisticRegression\n",
    "from sklearn.ensemble import ExtraTreesClassifier\n",
    "from sklearn.naive_bayes import GaussianNB\n",
    "from sklearn.metrics import classification_report\n",
    "import os, sys"
   ]
  },
  {
   "cell_type": "code",
   "execution_count": 16,
   "metadata": {},
   "outputs": [],
   "source": [
    "train=pd.read_csv('train.csv')\n",
    "test=pd.read_csv('test.csv')\n",
    "test_data=pd.read_csv('test_data .csv')"
   ]
  },
  {
   "cell_type": "code",
   "execution_count": 25,
   "metadata": {},
   "outputs": [
    {
     "data": {
      "text/plain": [
       "49414"
      ]
     },
     "execution_count": 25,
     "metadata": {},
     "output_type": "execute_result"
    }
   ],
   "source": [
    "len(test_data)"
   ]
  },
  {
   "cell_type": "code",
   "execution_count": 26,
   "metadata": {},
   "outputs": [],
   "source": [
    "train_0=train[train['funnel_level']==0]\n",
    "train_1=train[train['funnel_level']==1]\n",
    "train_2=train[train['funnel_level']==2]\n",
    "\n",
    "test_0=test[test['funnel_level']==0]\n",
    "test_1=test[test['funnel_level']==1]\n",
    "test_2=test[test['funnel_level']==2]\n",
    "\n",
    "testd_0=test_data[test_data['funnel_level']=='lower']\n",
    "testd_1=test_data[test_data['funnel_level']=='middle']\n",
    "testd_2=test_data[test_data['funnel_level']=='upper']\n",
    "\n",
    "y_0=train_0['order_placed']\n",
    "y_1=train_1['order_placed']\n",
    "y_2=train_2['order_placed']"
   ]
  },
  {
   "cell_type": "code",
   "execution_count": 36,
   "metadata": {},
   "outputs": [],
   "source": [
    "def algo(aln='a',fl='a'):\n",
    "\n",
    "    X = [x for x in train.columns if x not in fl]\n",
    "\n",
    "\n",
    "    X_train_0, X_test_0, y_train_0, y_test_0 = train_test_split(train_0[X], y_0, test_size=0.20, random_state=42)\n",
    "    X_train_1, X_test_1, y_train_1, y_test_1 = train_test_split(train_1[X], y_1, test_size=0.20, random_state=42)\n",
    "    X_train_2, X_test_2, y_train_2, y_test_2 = train_test_split(train_2[X], y_2, test_size=0.20, random_state=42)\n",
    "\n",
    "    if(aln=='1'):\n",
    "        path='randomforest/{}'.format(fl[len(fl)-1])\n",
    "        os.mkdir(path)\n",
    "        for i in range(1,20):\n",
    "            clf_0 = RandomForestClassifier(n_estimators=100, max_depth=i,random_state=0)\n",
    "            clf_0.fit(train_0[X],y_0)\n",
    "            clf_1 = RandomForestClassifier(n_estimators=100, max_depth=i,random_state=0)\n",
    "            clf_1.fit(train_1[X],y_1)\n",
    "            clf_2 = RandomForestClassifier(n_estimators=100, max_depth=i,random_state=0)\n",
    "            clf_2.fit(train_2[X],y_2)\n",
    "            \n",
    "            pre_0=clf_0.predict(test_0[X])\n",
    "            pre_1=clf_1.predict(test_1[X])\n",
    "            pre_2=clf_2.predict(test_2[X])\n",
    "            \n",
    "#             pt=list(pre_t0)+list(pre_t1)+list(pre_t2)\n",
    "            p=list(pre_0)+list(pre_1)+list(pre_2)\n",
    "#             print(len(p))\n",
    "            id1=list(testd_0['id'])+list(testd_1['id'])+list(testd_2['id'])\n",
    "#             print(len(id1))\n",
    "            sub=pd.DataFrame()\n",
    "            sub['id']=id1\n",
    "            sub['order_placed']=p\n",
    "            sub.to_csv(path+'/submission{}-{}-{}.csv'.format(aln,fl[len(fl)-1],i),index=False)\n",
    "            print(path+'/submission-feature{}-maxdepth{}.csv'.format(fl[len(fl)-1],i))\n",
    "        \n",
    "    \n",
    "    elif(aln=='2'):\n",
    "        for i in range(20):\n",
    "            clf_0 = GradientBoostingClassifier(n_estimators=100, max_depth=i,random_state=0)\n",
    "            clf_0.fit(train_0[X],y_0)\n",
    "            clf_1 = GradientBoostingClassifier(n_estimators=100, max_depth=i,random_state=0)\n",
    "            clf_1.fit(train_0[X],y_0)\n",
    "            clf_2 = GradientBoostingClassifier(n_estimators=100, max_depth=i,random_state=0)\n",
    "            clf_2.fit(train_0[X],y_0)\n",
    "    \n",
    "    elif(aln=='3'):\n",
    "        clf_0 = LogisticRegression(solver='lbfgs',penalty = 'l2', C = 1000,random_state = 0)\n",
    "        clf_0.fit(train_0[X],y_0)\n",
    "        clf_1 = LogisticRegression(solver='lbfgs',penalty = 'l2', C = 1000,random_state = 0)\n",
    "        clf_1.fit(train_0[X],y_0)\n",
    "        clf_2 = LogisticRegression(solver='lbfgs',penalty = 'l2', C = 1000,random_state = 0)\n",
    "        clf_2.fit(train_0[X],y_0)\n",
    "        \n",
    "    elif(aln=='4'):\n",
    "        clf_0 = ExtraTreesClassifier(random_state=0)\n",
    "        clf_0.fit(train_0[X],y_0)\n",
    "        clf_1 = ExtraTreesClassifier(random_state=0)\n",
    "        clf_1.fit(train_0[X],y_0)\n",
    "        clf_2 = ExtraTreesClassifier(random_state=0)\n",
    "        clf_2.fit(train_0[X],y_0)\n",
    "        \n",
    "    elif(aln=='5'):\n",
    "        clf_0 = GaussianNB()\n",
    "        clf_0.fit(train_0[X],y_0)\n",
    "        clf_1 = GaussianNB()\n",
    "        clf_1.fit(train_0[X],y_0)\n",
    "        clf_2 = GaussianNB()\n",
    "        clf_2.fit(train_0[X],y_0)\n"
   ]
  },
  {
   "cell_type": "code",
   "execution_count": null,
   "metadata": {},
   "outputs": [
    {
     "name": "stdout",
     "output_type": "stream",
     "text": [
      "randomforest/checkout/submission-featurecheckout-maxdepth1.csv\n",
      "randomforest/checkout/submission-featurecheckout-maxdepth2.csv\n",
      "randomforest/checkout/submission-featurecheckout-maxdepth3.csv\n",
      "randomforest/checkout/submission-featurecheckout-maxdepth4.csv\n",
      "randomforest/checkout/submission-featurecheckout-maxdepth5.csv\n",
      "randomforest/checkout/submission-featurecheckout-maxdepth6.csv\n",
      "randomforest/checkout/submission-featurecheckout-maxdepth7.csv\n",
      "randomforest/checkout/submission-featurecheckout-maxdepth8.csv\n",
      "randomforest/checkout/submission-featurecheckout-maxdepth9.csv\n",
      "randomforest/checkout/submission-featurecheckout-maxdepth10.csv\n",
      "randomforest/checkout/submission-featurecheckout-maxdepth11.csv\n",
      "randomforest/checkout/submission-featurecheckout-maxdepth12.csv\n",
      "randomforest/checkout/submission-featurecheckout-maxdepth13.csv\n",
      "randomforest/checkout/submission-featurecheckout-maxdepth14.csv\n",
      "randomforest/checkout/submission-featurecheckout-maxdepth15.csv\n",
      "randomforest/checkout/submission-featurecheckout-maxdepth16.csv\n",
      "randomforest/checkout/submission-featurecheckout-maxdepth17.csv\n"
     ]
    }
   ],
   "source": [
    "a=['order_placed','checkout','id','timestamp','link','funnel_level']\n",
    "for i in range(2,6):\n",
    "    algo(aln='1',fl=a[0:i])"
   ]
  },
  {
   "cell_type": "code",
   "execution_count": null,
   "metadata": {},
   "outputs": [],
   "source": []
  },
  {
   "cell_type": "code",
   "execution_count": null,
   "metadata": {},
   "outputs": [],
   "source": []
  }
 ],
 "metadata": {
  "kernelspec": {
   "display_name": "Python 3",
   "language": "python",
   "name": "python3"
  },
  "language_info": {
   "codemirror_mode": {
    "name": "ipython",
    "version": 3
   },
   "file_extension": ".py",
   "mimetype": "text/x-python",
   "name": "python",
   "nbconvert_exporter": "python",
   "pygments_lexer": "ipython3",
   "version": "3.6.5"
  }
 },
 "nbformat": 4,
 "nbformat_minor": 2
}
