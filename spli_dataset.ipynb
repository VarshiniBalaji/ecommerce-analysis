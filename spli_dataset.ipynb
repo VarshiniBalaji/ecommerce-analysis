{
 "cells": [
  {
   "cell_type": "code",
   "execution_count": 21,
   "metadata": {},
   "outputs": [],
   "source": [
    "import pandas as pd\n",
    "from sklearn.model_selection import train_test_split\n",
    "from sklearn.ensemble import RandomForestClassifier\n",
    "from sklearn.metrics import accuracy_score\n",
    "from sklearn.ensemble import GradientBoostingClassifier\n",
    "from sklearn.linear_model import LogisticRegression\n",
    "from sklearn.ensemble import ExtraTreesClassifier\n",
    "from sklearn.naive_bayes import GaussianNB\n",
    "from sklearn.metrics import classification_report"
   ]
  },
  {
   "cell_type": "code",
   "execution_count": 22,
   "metadata": {},
   "outputs": [],
   "source": [
    "train=pd.read_csv('train.csv')\n",
    "test=pd.read_csv('test.csv')\n",
    "test_data=pd.read_csv('test_data .csv')"
   ]
  },
  {
   "cell_type": "code",
   "execution_count": 23,
   "metadata": {},
   "outputs": [],
   "source": [
    "train_0=train[train['funnel_level']==0]\n",
    "train_1=train[train['funnel_level']==1]\n",
    "train_2=train[train['funnel_level']==2]"
   ]
  },
  {
   "cell_type": "code",
   "execution_count": 24,
   "metadata": {},
   "outputs": [],
   "source": [
    "test_0=test[test['funnel_level']==0]\n",
    "test_1=test[test['funnel_level']==1]\n",
    "test_2=test[test['funnel_level']==2]\n",
    "testd_0=test_data[test_data['funnel_level']=='lower']\n",
    "testd_1=test_data[test_data['funnel_level']=='middle']\n",
    "testd_2=test_data[test_data['funnel_level']=='upper']"
   ]
  },
  {
   "cell_type": "code",
   "execution_count": 111,
   "metadata": {},
   "outputs": [],
   "source": [
    "X = [x for x in train.columns if x not in ['order_placed','checkout','id','link','timestamp']]\n",
    "y_0=train_0['order_placed']\n",
    "y_1=train_1['order_placed']\n",
    "y_2=train_2['order_placed']"
   ]
  },
  {
   "cell_type": "code",
   "execution_count": 112,
   "metadata": {},
   "outputs": [],
   "source": [
    "X_train_0, X_test_0, y_train_0, y_test_0 = train_test_split(train_0[X], y_0, test_size=0.20, random_state=42)\n",
    "X_train_1, X_test_1, y_train_1, y_test_1 = train_test_split(train_1[X], y_1, test_size=0.20, random_state=42)\n",
    "X_train_2, X_test_2, y_train_2, y_test_2 = train_test_split(train_2[X], y_2, test_size=0.20, random_state=42)"
   ]
  },
  {
   "cell_type": "code",
   "execution_count": 121,
   "metadata": {},
   "outputs": [
    {
     "data": {
      "text/plain": [
       "RandomForestClassifier(bootstrap=True, class_weight=None, criterion='entropy',\n",
       "            max_depth=2, max_features='auto', max_leaf_nodes=None,\n",
       "            min_impurity_decrease=0.0, min_impurity_split=None,\n",
       "            min_samples_leaf=1, min_samples_split=2,\n",
       "            min_weight_fraction_leaf=0.0, n_estimators=100, n_jobs=1,\n",
       "            oob_score=False, random_state=0, verbose=0, warm_start=False)"
      ]
     },
     "execution_count": 121,
     "metadata": {},
     "output_type": "execute_result"
    }
   ],
   "source": [
    "clf_0 = RandomForestClassifier(n_estimators=100, max_depth=2,random_state=0,criterion='entropy')\n",
    "clf_0.fit(X_train_0,y_train_0)\n",
    "clf_1 = RandomForestClassifier(n_estimators=100, max_depth=2,random_state=0,criterion='entropy')\n",
    "clf_1.fit(X_train_1,y_train_1)\n",
    "clf_2 = RandomForestClassifier(n_estimators=100, max_depth=2,random_state=0,criterion='entropy')\n",
    "clf_2.fit(X_train_2,y_train_2)"
   ]
  },
  {
   "cell_type": "code",
   "execution_count": null,
   "metadata": {},
   "outputs": [],
   "source": [
    "clf_0 = GradientBoostingClassifier(n_estimators=100, max_depth=8,random_state=0,criterion='entropy')\n",
    "clf_0.fit(X_train_0,y_train_0)\n",
    "clf_1 = GradientBoostingClassifier(n_estimators=100, max_depth=8,random_state=0,criterion='entropy')\n",
    "clf_1.fit(X_train_1,y_train_1)\n",
    "clf_2 = GradientBoostingClassifier(n_estimators=100, max_depth=8,random_state=0,criterion='entropy')\n",
    "clf_2.fit(X_train_2,y_train_2)"
   ]
  },
  {
   "cell_type": "code",
   "execution_count": null,
   "metadata": {},
   "outputs": [],
   "source": [
    "clf_0 = LogisticRegression(solver='lbfgs',penalty = 'l2', C = 1000,random_state = 0)\n",
    "clf_0.fit(X_train_0,y_train_0)\n",
    "clf_1 = LogisticRegression(solver='lbfgs',penalty = 'l2', C = 1000,random_state = 0)\n",
    "clf_1.fit(X_train_1,y_train_1)\n",
    "clf_2 = LogisticRegression(solver='lbfgs',penalty = 'l2', C = 1000,random_state = 0)\n",
    "clf_2.fit(X_train_2,y_train_2)"
   ]
  },
  {
   "cell_type": "code",
   "execution_count": 38,
   "metadata": {},
   "outputs": [
    {
     "data": {
      "text/plain": [
       "ExtraTreesClassifier(bootstrap=False, class_weight=None, criterion='gini',\n",
       "           max_depth=None, max_features='auto', max_leaf_nodes=None,\n",
       "           min_impurity_decrease=0.0, min_impurity_split=None,\n",
       "           min_samples_leaf=1, min_samples_split=2,\n",
       "           min_weight_fraction_leaf=0.0, n_estimators=10, n_jobs=1,\n",
       "           oob_score=False, random_state=0, verbose=0, warm_start=False)"
      ]
     },
     "execution_count": 38,
     "metadata": {},
     "output_type": "execute_result"
    }
   ],
   "source": [
    "clf_0 = ExtraTreesClassifier(random_state=0)\n",
    "clf_0.fit(X_train_0,y_train_0)\n",
    "clf_1 = ExtraTreesClassifier(random_state=0)\n",
    "clf_1.fit(X_train_1,y_train_1)\n",
    "clf_2 = ExtraTreesClassifier(random_state=0)\n",
    "clf_2.fit(X_train_2,y_train_2)"
   ]
  },
  {
   "cell_type": "code",
   "execution_count": 45,
   "metadata": {},
   "outputs": [
    {
     "data": {
      "text/plain": [
       "GaussianNB(priors=None)"
      ]
     },
     "execution_count": 45,
     "metadata": {},
     "output_type": "execute_result"
    }
   ],
   "source": [
    "clf_0 = GaussianNB()\n",
    "clf_0.fit(X_train_0,y_train_0)\n",
    "clf_1 = GaussianNB()\n",
    "clf_1.fit(X_train_1,y_train_1)\n",
    "clf_2 = GaussianNB()\n",
    "clf_2.fit(X_train_2,y_train_2)"
   ]
  },
  {
   "cell_type": "code",
   "execution_count": 122,
   "metadata": {},
   "outputs": [],
   "source": [
    "pre_0=clf_0.predict(X_test_0)\n",
    "pre_1=clf_1.predict(X_test_1)\n",
    "pre_2=clf_2.predict(X_test_2)"
   ]
  },
  {
   "cell_type": "code",
   "execution_count": 123,
   "metadata": {},
   "outputs": [
    {
     "name": "stdout",
     "output_type": "stream",
     "text": [
      "0 0.7215127701375246\n",
      "1 0.778159046066741\n",
      "2 0.904657420823846\n"
     ]
    }
   ],
   "source": [
    "print(\"0\",accuracy_score(y_test_0, pre_0))\n",
    "print(\"1\",accuracy_score(y_test_1, pre_1))\n",
    "print(\"2\",accuracy_score(y_test_2, pre_2))"
   ]
  },
  {
   "cell_type": "code",
   "execution_count": 124,
   "metadata": {},
   "outputs": [],
   "source": [
    "clf_0 = RandomForestClassifier(n_estimators=100, max_depth=2,random_state=0)\n",
    "clf_0.fit(train_0[X],y_0)\n",
    "clf_1 = RandomForestClassifier(n_estimators=100, max_depth=2,random_state=0)\n",
    "clf_1.fit(train_1[X],y_1)\n",
    "clf_2 = RandomForestClassifier(n_estimators=100, max_depth=2,random_state=0)\n",
    "clf_2.fit(train_2[X],y_2)\n",
    "\n",
    "\n",
    "pre_t0=clf_0.predict(test_0[X])\n",
    "pre_t1=clf_1.predict(test_1[X])\n",
    "pre_t2=clf_2.predict(test_2[X])"
   ]
  },
  {
   "cell_type": "code",
   "execution_count": 125,
   "metadata": {},
   "outputs": [],
   "source": [
    "pt=list(pre_t0)+list(pre_t1)+list(pre_t2)\n",
    "p=list(pre_0)+list(pre_1)+list(pre_2)\n",
    "i=list(testd_0['id'])+list(testd_1['id'])+list(testd_2['id'])"
   ]
  },
  {
   "cell_type": "code",
   "execution_count": 126,
   "metadata": {},
   "outputs": [],
   "source": [
    "sub=pd.DataFrame()\n",
    "sub['id']=i\n",
    "sub['order_placed']=pt\n",
    "sub.to_csv('submission.csv',index=False)"
   ]
  },
  {
   "cell_type": "code",
   "execution_count": 127,
   "metadata": {},
   "outputs": [
    {
     "data": {
      "text/plain": [
       "['ad', 'grp', 'funnel_level']"
      ]
     },
     "execution_count": 127,
     "metadata": {},
     "output_type": "execute_result"
    }
   ],
   "source": [
    "X"
   ]
  },
  {
   "cell_type": "code",
   "execution_count": 128,
   "metadata": {},
   "outputs": [
    {
     "name": "stdout",
     "output_type": "stream",
     "text": [
      "             precision    recall  f1-score   support\n",
      "\n",
      "          0       0.96      0.86      0.91     35835\n",
      "          1       0.37      0.72      0.49      4049\n",
      "\n",
      "avg / total       0.90      0.85      0.87     39884\n",
      "\n"
     ]
    }
   ],
   "source": [
    "y=list(y_test_0)+list(y_test_1)+list(y_test_2)\n",
    "print(classification_report(p,y))"
   ]
  },
  {
   "cell_type": "code",
   "execution_count": 129,
   "metadata": {},
   "outputs": [],
   "source": [
    "a=[]\n",
    "b=[]\n",
    "for i in y:\n",
    "    if(i==0):\n",
    "        a.append(i)\n",
    "    else:\n",
    "        b.append(i)"
   ]
  },
  {
   "cell_type": "code",
   "execution_count": 130,
   "metadata": {},
   "outputs": [
    {
     "name": "stdout",
     "output_type": "stream",
     "text": [
      "32064 7820\n"
     ]
    }
   ],
   "source": [
    "print(len(a),len(b))"
   ]
  },
  {
   "cell_type": "code",
   "execution_count": null,
   "metadata": {},
   "outputs": [],
   "source": []
  }
 ],
 "metadata": {
  "kernelspec": {
   "display_name": "Python 3",
   "language": "python",
   "name": "python3"
  },
  "language_info": {
   "codemirror_mode": {
    "name": "ipython",
    "version": 3
   },
   "file_extension": ".py",
   "mimetype": "text/x-python",
   "name": "python",
   "nbconvert_exporter": "python",
   "pygments_lexer": "ipython3",
   "version": "3.6.5"
  }
 },
 "nbformat": 4,
 "nbformat_minor": 2
}
